{
  "nbformat": 4,
  "nbformat_minor": 0,
  "metadata": {
    "colab": {
      "provenance": []
    },
    "kernelspec": {
      "name": "python3",
      "display_name": "Python 3"
    },
    "language_info": {
      "name": "python"
    }
  },
  "cells": [
    {
      "cell_type": "code",
      "execution_count": 1,
      "metadata": {
        "id": "luL5N8VLEfxw"
      },
      "outputs": [],
      "source": [
        "#import libraries\n",
        "import numpy as np\n",
        "import torch"
      ]
    },
    {
      "cell_type": "code",
      "source": [
        "#create a vector\n",
        "\n",
        "new_vector = np.array([[1,2,3,4,5]])\n",
        "print('new_vector \\n',new_vector), print(' ')\n",
        "\n",
        "#transposing a vector\n",
        "print('new_vector transposed \\n',new_vector.T), print(' ')\n",
        "\n",
        "#transposing the transpose!\n",
        "newV = new_vector.T.T\n",
        "print('transpose of the transpose \\n',newV)"
      ],
      "metadata": {
        "colab": {
          "base_uri": "https://localhost:8080/"
        },
        "id": "m_MSoDlpEtMe",
        "outputId": "bbfbbefb-3a92-4212-8f19-437f2d1964a0"
      },
      "execution_count": 5,
      "outputs": [
        {
          "output_type": "stream",
          "name": "stdout",
          "text": [
            "new_vector \n",
            " [[1 2 3 4 5]]\n",
            " \n",
            "new_vector transposed \n",
            " [[1]\n",
            " [2]\n",
            " [3]\n",
            " [4]\n",
            " [5]]\n",
            " \n",
            "transpose of the transpose \n",
            " [[1 2 3 4 5]]\n"
          ]
        }
      ]
    },
    {
      "cell_type": "markdown",
      "source": [
        "Using Pytorch."
      ],
      "metadata": {
        "id": "jZ4iqMbhGaZy"
      }
    },
    {
      "cell_type": "code",
      "source": [
        "#First create a vector\n",
        "torch_vector = torch.tensor([[1,2,3,4]])\n",
        "print(\"torch vector \\n\", torch_vector), print(' ')\n",
        "\n",
        "#Transpose the created vector.\n",
        "tvT = torch_vector.T\n",
        "print(\"torch transposed \\n\", tvT)\n",
        "\n",
        "#Transposing the transpose\n",
        "print(\"Original \\n\", tvT.T), print(' ')"
      ],
      "metadata": {
        "colab": {
          "base_uri": "https://localhost:8080/"
        },
        "id": "IHBAfFqqGJO4",
        "outputId": "ff4da1c8-0467-48e5-ff7e-a81d81f367ff"
      },
      "execution_count": 6,
      "outputs": [
        {
          "output_type": "stream",
          "name": "stdout",
          "text": [
            "torch vector \n",
            " tensor([[1, 2, 3, 4]])\n",
            " \n",
            "torch transposed \n",
            " tensor([[1],\n",
            "        [2],\n",
            "        [3],\n",
            "        [4]])\n",
            "Original \n",
            " tensor([[1, 2, 3, 4]])\n",
            " \n"
          ]
        },
        {
          "output_type": "execute_result",
          "data": {
            "text/plain": [
              "(None, None)"
            ]
          },
          "metadata": {},
          "execution_count": 6
        }
      ]
    },
    {
      "cell_type": "code",
      "source": [
        "\n",
        "#Examining the Data Types.\n",
        "#checked the side bar on colab.\n",
        "\n",
        "print(f'newV is of type: {type(newV)}')\n",
        "print(f'new_vector is of type: {type(new_vector)}')\n",
        "print(f'torch_vector is of type: {type(torch_vector)}')\n",
        "print(f'tvT is of type: {type(tvT)}')\n"
      ],
      "metadata": {
        "colab": {
          "base_uri": "https://localhost:8080/"
        },
        "id": "R5bf2YDoHhPz",
        "outputId": "9297e7d1-2f2a-4533-b774-f0706ba1166f"
      },
      "execution_count": 19,
      "outputs": [
        {
          "output_type": "stream",
          "name": "stdout",
          "text": [
            "newV is of type: <class 'numpy.ndarray'>\n",
            "new_vector is of type: <class 'numpy.ndarray'>\n",
            "torch_vector is of type: <class 'torch.Tensor'>\n",
            "tvT is of type: <class 'torch.Tensor'>\n"
          ]
        }
      ]
    },
    {
      "cell_type": "markdown",
      "source": [
        "Code Snippet $ deep learning class.\n",
        "##### Author: Lawrence\n",
        "##### Tutor: Mike X Cohen"
      ],
      "metadata": {
        "id": "nCeUm59iJqA7"
      }
    }
  ]
}