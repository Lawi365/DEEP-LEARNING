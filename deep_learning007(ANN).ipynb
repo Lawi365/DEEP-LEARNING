{
 "cells": [
  {
   "cell_type": "markdown",
   "metadata": {},
   "source": [
    "The First Notebook ANN <br>\n",
    "Simple Regression using ANN<br>\n",
    "The Perceptron Model<br>\n",
    "Author: Lawrence M.<br>\n",
    "Tutor: MxCohen<br>\n",
    "Rewritten and modifed by Me.2022/05/11<br>\n"
   ]
  },
  {
   "cell_type": "code",
   "execution_count": 73,
   "metadata": {},
   "outputs": [],
   "source": [
    "#libraries importation.\n",
    "#Knock Know \n",
    "# who's there ?\n",
    "# deep \n",
    "# deep who?\n",
    "#Deep Learning "
   ]
  },
  {
   "cell_type": "code",
   "execution_count": 74,
   "metadata": {},
   "outputs": [],
   "source": [
    "import numpy as np\n",
    "import torch\n",
    "import torch.nn as nn\n",
    "import matplotlib.pyplot as plt\n",
    "from IPython import display"
   ]
  },
  {
   "cell_type": "code",
   "execution_count": 75,
   "metadata": {},
   "outputs": [
    {
     "name": "stdout",
     "output_type": "stream",
     "text": [
      "Done\n"
     ]
    }
   ],
   "source": [
    "#create the data\n",
    "# N will represent the values of number of samples.\n",
    "# x to represent random x observations say weight\n",
    "# y to represent the outcome of those observations say height\n",
    "# then we create a seed so that you also get the same results.\n",
    "torch.seed()\n",
    "N = 300001\n",
    "x = torch.randn(N,1)\n",
    "y = x + torch.randn(N,1)\n",
    "\n",
    "print(\"Done\")"
   ]
  },
  {
   "cell_type": "code",
   "execution_count": 76,
   "metadata": {},
   "outputs": [
    {
     "data": {
      "image/png": "[encoded data removed]",
      "text/plain": [
       "<Figure size 432x288 with 1 Axes>"
      ]
     },
     "metadata": {
      "needs_background": "light"
     },
     "output_type": "display_data"
    }
   ],
   "source": [
    "#plot the results.\n",
    "plt.plot(x,y,'o')\n",
    "plt.show()"
   ]
  },
  {
   "cell_type": "markdown",
   "metadata": {},
   "source": [
    "\n",
    "We are going to assume that this are now our original values.<br>\n",
    "can we predict them using a neural net??<br>\n",
    "find out in this episode"
   ]
  },
  {
   "cell_type": "code",
   "execution_count": 77,
   "metadata": {},
   "outputs": [
    {
     "data": {
      "text/plain": [
       "Sequential(\n",
       "  (0): Linear(in_features=1, out_features=1, bias=True)\n",
       "  (1): ReLU()\n",
       "  (2): Linear(in_features=1, out_features=1, bias=True)\n",
       ")"
      ]
     },
     "execution_count": 77,
     "metadata": {},
     "output_type": "execute_result"
    }
   ],
   "source": [
    "#we then create a model.\n",
    "Ann_regression = nn.Sequential(\n",
    "    #1. input layer\n",
    "    #2. activation fxn\n",
    "    #3. output layer\n",
    "\n",
    "    nn.Linear(1,1),\n",
    "    nn.ReLU(),\n",
    "    nn.Linear(1,1)\n",
    ")\n",
    "\n",
    "Ann_regression"
   ]
  },
  {
   "cell_type": "code",
   "execution_count": 78,
   "metadata": {},
   "outputs": [
    {
     "name": "stdout",
     "output_type": "stream",
     "text": [
      "success\n"
     ]
    }
   ],
   "source": [
    "#learning rate\n",
    "learning_rate = 0.1\n",
    "\n",
    "#loss function.\n",
    "# the loss fxn will be mse cos of continous data we are predicting.\n",
    "\n",
    "loss_fxn = nn.MSELoss()\n",
    "\n",
    "#optimizer ( the flavor of gradient descent to implement.)\n",
    "optimizer = torch.optim.SGD(Ann_regression.parameters(), lr=learning_rate)\n",
    "\n",
    "print(\"success\")"
   ]
  },
  {
   "cell_type": "code",
   "execution_count": 79,
   "metadata": {},
   "outputs": [
    {
     "name": "stdout",
     "output_type": "stream",
     "text": [
      "I'm still lost, but we continue learning as usual\n",
      "added additional comments to understand how the thing works.\n",
      "lost at the back prop but hoping to understand in the few coming topics\n"
     ]
    }
   ],
   "source": [
    "#training the model.\n",
    "no_epochs = 500\n",
    "\n",
    "#later on add values to this array.\n",
    "#at the moment its filled with zeros.\n",
    "losses = torch.zeros(no_epochs)\n",
    "\n",
    "#Real Training.\n",
    "for epoch_iter in range(no_epochs):\n",
    "    #forward pass\n",
    "    y_hat = Ann_regression(x)\n",
    "\n",
    "    #compute loss fxn\n",
    "    loss = loss_fxn(y_hat,y)\n",
    "\n",
    "    #append that loss value into losses innit outside the loop.\n",
    "    losses[epoch_iter] = loss\n",
    "\n",
    "    #back prop\n",
    "    optimizer.zero_grad()\n",
    "    loss.backward()\n",
    "    optimizer.step()\n",
    "\n",
    "print(\"I'm still lost, but we continue learning as usual\")\n",
    "print(\"added additional comments to understand how the thing works.\")\n",
    "\n",
    "print(\"lost at the back prop but hoping to understand in the few coming topics\")"
   ]
  },
  {
   "cell_type": "code",
   "execution_count": 80,
   "metadata": {},
   "outputs": [
    {
     "data": {
      "text/plain": [
       "[]"
      ]
     },
     "execution_count": 80,
     "metadata": {},
     "output_type": "execute_result"
    },
    {
     "data": {
      "image/png": "[encoded data removed]",
      "text/plain": [
       "<Figure size 432x288 with 1 Axes>"
      ]
     },
     "metadata": {
      "needs_background": "light"
     },
     "output_type": "display_data"
    }
   ],
   "source": [
    "#understood everything except the back prop section\n",
    "#Next we show the losses.\n",
    "#we stored them in the array! remember.\n",
    "\n",
    "#manually compute the losses\n",
    "#the make final forward pass.\n",
    "\n",
    "predictions = Ann_regression(x)\n",
    "\n",
    "#final loss which is MSE\n",
    "test_loss = (predictions - y).pow(2).mean()\n",
    "\n",
    "#then plot the results.\n",
    "plt.plot(losses.detach(),'o',markerfacecolor='w',linewidth=.1)\n",
    "# plt.plot(no_epochs,test_loss.detach(),'ro')\n",
    "plt.xlabel('Epoch')\n",
    "plt.ylabel('Loss')\n",
    "plt.title('Final loss = %g'%test_loss.item())\n",
    "plt.plot()"
   ]
  },
  {
   "cell_type": "code",
   "execution_count": 81,
   "metadata": {},
   "outputs": [
    {
     "data": {
      "text/plain": [
       "1.0037862062454224"
      ]
     },
     "execution_count": 81,
     "metadata": {},
     "output_type": "execute_result"
    }
   ],
   "source": [
    "test_loss.item()"
   ]
  },
  {
   "cell_type": "code",
   "execution_count": 82,
   "metadata": {},
   "outputs": [
    {
     "data": {
      "image/png": "[encoded data removed]",
      "text/plain": [
       "<Figure size 432x288 with 1 Axes>"
      ]
     },
     "metadata": {
      "needs_background": "light"
     },
     "output_type": "display_data"
    }
   ],
   "source": [
    "#plot the data.\n",
    "\n",
    "plt.plot(x,y,'bo',label='Real data')\n",
    "plt.plot(x,predictions.detach(),'rs',label='Predictions')\n",
    "plt.title(f'Prediction-data r={np.corrcoef(y.T, predictions.detach().T)[0,1]:.2f}')\n",
    "plt.legend()\n",
    "plt.show()"
   ]
  },
  {
   "cell_type": "markdown",
   "metadata": {},
   "source": [
    "#further exploration<br>\n",
    "#we try diff n values and effect on loss<br>\n",
    "#conclusin depend on amnt of noise in the data<br>\n",
    "#we then try changing division by 2 when creating y as  x+ randn<br>\n",
    "#also we shold notice that the model doesnt always work well.<br>\n",
    "#say put the original code n= 30 into a fxn or for loop <br>and repeat the training 100 times( each<br>\n",
    "time usng a ....then cont thenujmber of times the model had a loss>.25/)\n"
   ]
  },
  {
   "cell_type": "markdown",
   "metadata": {},
   "source": [
    "#### 95% accuracy Quite Promising\n",
    "##### Next: i'll try the same on a real dataset"
   ]
  },
  {
   "cell_type": "code",
   "execution_count": null,
   "metadata": {},
   "outputs": [],
   "source": [
    "# I've noted that as n increases im getting the outputs as a ReLU\n",
    "# infact the above plot shows the ReLU as always depicted. only that the \n",
    "# y values are somehow not properly scaled.\n",
    "# The end.\n",
    "#lawrence./"
   ]
  }
 ],
 "metadata": {
  "kernelspec": {
   "display_name": "Python 3.8.8 ('base')",
   "language": "python",
   "name": "python3"
  },
  "language_info": {
   "codemirror_mode": {
    "name": "ipython",
    "version": 3
   },
   "file_extension": ".py",
   "mimetype": "text/x-python",
   "name": "python",
   "nbconvert_exporter": "python",
   "pygments_lexer": "ipython3",
   "version": "3.8.8"
  },
  "orig_nbformat": 4,
  "vscode": {
   "interpreter": {
    "hash": "ad2bdc8ecc057115af97d19610ffacc2b4e99fae6737bb82f5d7fb13d2f2c186"
   }
  }
 },
 "nbformat": 4,
 "nbformat_minor": 2
}
