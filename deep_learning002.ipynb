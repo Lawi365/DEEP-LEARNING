{
 "cells": [
  {
   "cell_type": "markdown",
   "metadata": {},
   "source": [
    "The Second Complete lesson on numpy and pyTorch. <br>\n",
    "Mathematical expressions By sympy<br>\n",
    "\n",
    "Author: Lawrence M.<br>\n",
    "Tutor: MxCohen<br>\n",
    "Rewritten and modifed by Me.2022/27/10<br>\n"
   ]
  },
  {
   "cell_type": "code",
   "execution_count": 1,
   "metadata": {},
   "outputs": [],
   "source": [
    "#import the req libraries.\n",
    "import numpy as np\n",
    "import torch"
   ]
  },
  {
   "cell_type": "code",
   "execution_count": 2,
   "metadata": {},
   "outputs": [
    {
     "name": "stdout",
     "output_type": "stream",
     "text": [
      "Min, max: -3, 40\n"
     ]
    }
   ],
   "source": [
    "#create a vector\n",
    "vector = np.array([1,40,2,-3])\n",
    "\n",
    "# finding and reporting the maximum and minimum values\n",
    "min_val = np.min(vector)\n",
    "max_val = np.max(vector)\n",
    "\n",
    "#print them out\n",
    "print('Min, max: %g, %g'%(min_val, max_val))"
   ]
  },
  {
   "cell_type": "code",
   "execution_count": 3,
   "metadata": {},
   "outputs": [
    {
     "name": "stdout",
     "output_type": "stream",
     "text": [
      "Min, Max indices: 3, 1\n"
     ]
    }
   ],
   "source": [
    "#Printing out the argmin and argmax.\n",
    "mini_dx = np.argmin(vector)\n",
    "maxi_dx = np.argmax(vector)\n",
    "\n",
    "#print them out.\n",
    "print('Min, Max indices: %g, %g'%(mini_dx, maxi_dx))"
   ]
  },
  {
   "cell_type": "code",
   "execution_count": 4,
   "metadata": {},
   "outputs": [],
   "source": [
    "def output_print(a,b):\n",
    "    print('Min, Max: %g, %g'%(a, b))"
   ]
  },
  {
   "cell_type": "markdown",
   "metadata": {},
   "source": [
    "Can we do them with a matrix?"
   ]
  },
  {
   "cell_type": "code",
   "execution_count": 5,
   "metadata": {},
   "outputs": [
    {
     "name": "stdout",
     "output_type": "stream",
     "text": [
      "[[ 0  1 10]\n",
      " [20  8 -5]]\n",
      "Min, Max: -5, 20\n",
      "[ 0 -5] [10 20]\n",
      "[ 0  1 -5] [20  8 10]\n"
     ]
    }
   ],
   "source": [
    "#create the matrix.\n",
    "matrix = np.array([[0,1,10],\n",
    "[20,8,-5]])\n",
    "\n",
    "#lets display the matrix\n",
    "print(matrix)\n",
    "\n",
    "#display the minima and maximas.entire matrix\n",
    "minimax = np.min(matrix)\n",
    "maxima = np.max(matrix)\n",
    "output_print(minimax,maxima)\n",
    "\n",
    "#across rows.\n",
    "minimax_row = np.min(matrix,axis = 1)\n",
    "maxima_row = np.max(matrix, axis=1)\n",
    "print(minimax_row, maxima_row)\n",
    "# output_print(minimax_row,maxima_row)\n",
    "\n",
    "#across columns\n",
    "minimax_col = np.min(matrix, axis =0)\n",
    "maxima_col = np.max(matrix, axis=0)\n",
    "print(minimax_col,maxima_col)"
   ]
  },
  {
   "cell_type": "code",
   "execution_count": 6,
   "metadata": {},
   "outputs": [
    {
     "name": "stdout",
     "output_type": "stream",
     "text": [
      "5 3\n"
     ]
    }
   ],
   "source": [
    "#argmax and argmins\n",
    "\n",
    "argmin_matrix = np.argmin(matrix)\n",
    "argmax_matrix = np.argmax(matrix)\n",
    "print(argmin_matrix, argmax_matrix)\n"
   ]
  },
  {
   "cell_type": "code",
   "execution_count": 7,
   "metadata": {},
   "outputs": [
    {
     "name": "stdout",
     "output_type": "stream",
     "text": [
      "Min, Max: -5, 20\n",
      "Min, Max: 5, 3\n"
     ]
    }
   ],
   "source": [
    "#using pytorch.\n",
    "\n",
    "#1. find the maximum and minimum values.\n",
    "maxval = torch.max(torch.Tensor(matrix))\n",
    "minval = torch.min(torch.Tensor(matrix))\n",
    "\n",
    "output_print(minval, maxval)\n",
    "#2. find the argmax and argmin\n",
    "argmaxT = torch.argmax(torch.Tensor(matrix))\n",
    "argminT = torch.argmin(torch.Tensor(matrix))\n",
    "output_print(argminT, argmaxT)"
   ]
  },
  {
   "cell_type": "code",
   "execution_count": 8,
   "metadata": {},
   "outputs": [],
   "source": [
    "#lets confim this if its true.\n",
    "# Torch tensors works very well for a single vector.\n",
    "# print(f'Max val is {matrix[argmax_matrix]}')\n"
   ]
  },
  {
   "cell_type": "markdown",
   "metadata": {},
   "source": [
    "Section Two: Mean Variances and so on..."
   ]
  },
  {
   "cell_type": "code",
   "execution_count": 9,
   "metadata": {},
   "outputs": [
    {
     "name": "stdout",
     "output_type": "stream",
     "text": [
      "[[ 0  1 10]\n",
      " [20  8 -5]]\n",
      "Min, Max: 5.66667, 79.4667\n"
     ]
    }
   ],
   "source": [
    "mean_matrix = np.mean(matrix)\n",
    "variance_matrix= np.var(matrix, ddof=1)\n",
    "print(matrix)\n",
    "output_print(mean_matrix,variance_matrix)\n"
   ]
  },
  {
   "cell_type": "markdown",
   "metadata": {},
   "source": [
    "Samping Variability"
   ]
  },
  {
   "cell_type": "code",
   "execution_count": 10,
   "metadata": {},
   "outputs": [],
   "source": [
    "import matplotlib.pyplot as plt\n"
   ]
  },
  {
   "cell_type": "code",
   "execution_count": 13,
   "metadata": {},
   "outputs": [
    {
     "name": "stdout",
     "output_type": "stream",
     "text": [
      "Pop Mean 1.625, Sample Mean 1234\n"
     ]
    },
    {
     "data": {
      "image/png": "[encoded data removed]",
      "text/plain": [
       "<Figure size 432x288 with 1 Axes>"
      ]
     },
     "metadata": {
      "needs_background": "light"
     },
     "output_type": "display_data"
    }
   ],
   "source": [
    "#create a list of numbers to compute the mean and variance.\n",
    "created_list  = [1,2,4,6,5,4,0,-4,5,-2,6,10,-9,1,3,-6]\n",
    "number_of_items = len(created_list)\n",
    "\n",
    "#compute the population mean\n",
    "pop_mean = np.mean(created_list)\n",
    "\n",
    "\n",
    "\n",
    "#print them\n",
    "print('Pop Mean %g, Sample Mean %g'%(pop_mean,1234))\n",
    "sample_mean_matrix = []\n",
    "#we can create a histogram to visualize whats hapenin\n",
    "for i in range(len(created_list)):\n",
    "    #compute sample mean\n",
    "    sample = np.random.choice(created_list, size=4, replace=1)\n",
    "    sample_mean = np.mean(sample)\n",
    "    sample_mean_matrix.append(sample_mean)\n",
    "\n",
    "plt.hist(sample_mean_matrix, bins=40, density=True)\n",
    "plt.plot([pop_mean, pop_mean],[0,0.3],'m--')\n",
    "plt.xlabel(\"Sample Mean\")\n",
    "plt.ylabel('Count')\n",
    "plt.show()"
   ]
  },
  {
   "cell_type": "markdown",
   "metadata": {},
   "source": [
    "from above there is evidence of non representation.\n"
   ]
  },
  {
   "cell_type": "markdown",
   "metadata": {},
   "source": [
    "#### Reproducing randomness via seeding."
   ]
  },
  {
   "cell_type": "code",
   "execution_count": 14,
   "metadata": {},
   "outputs": [
    {
     "name": "stdout",
     "output_type": "stream",
     "text": [
      "[ 0.07942844  2.19020236 -0.13489215  0.16051798  0.44269784]\n",
      "[ 0.62339144  1.00890349  0.39424879 -0.3363867  -0.64590646]\n"
     ]
    }
   ],
   "source": [
    "#Seeding Using Numpy.\n",
    "\n",
    "random_seed = np.random.seed(18)\n",
    "print(np.random.randn(5))\n",
    "print(np.random.randn(5))"
   ]
  },
  {
   "cell_type": "code",
   "execution_count": 15,
   "metadata": {},
   "outputs": [
    {
     "name": "stdout",
     "output_type": "stream",
     "text": [
      "[ 0.27626589 -1.85462808  0.62390111  1.14531129  1.03719047]\n",
      "[-0.24972681 -1.01951826  2.23461339  0.72764703  1.2921122 ]\n",
      "[ 1.88663893 -0.11169829 -0.36210134  0.14867505 -0.43778315]\n",
      "[ 1.15494929 -0.0015467  -0.11196868 -1.08136725  0.10265891]\n"
     ]
    }
   ],
   "source": [
    "#Random Seed with Local Scope\n",
    "rand_seed_one = np.random.RandomState(17)\n",
    "rand_seed_two = np.random.RandomState(20210530)\n",
    "\n",
    "print(rand_seed_one.randn(5))\n",
    "print(rand_seed_two.randn(5))\n",
    "print(rand_seed_one.randn(5))\n",
    "print(rand_seed_two.randn(5))"
   ]
  },
  {
   "cell_type": "markdown",
   "metadata": {},
   "source": [
    "Random Numbers Using PyTorch."
   ]
  },
  {
   "cell_type": "code",
   "execution_count": 16,
   "metadata": {},
   "outputs": [
    {
     "name": "stdout",
     "output_type": "stream",
     "text": [
      "tensor([-1.4135,  0.2336,  0.0340,  0.3499, -0.0145])\n"
     ]
    }
   ],
   "source": [
    "#Seeding using Pytorch.\n",
    "torch.manual_seed(17)\n",
    "print(torch.randn(5))"
   ]
  },
  {
   "cell_type": "markdown",
   "metadata": {},
   "source": [
    "Testing If Our Experiment was Successful."
   ]
  },
  {
   "cell_type": "code",
   "execution_count": 17,
   "metadata": {},
   "outputs": [],
   "source": [
    "import scipy.stats as stats"
   ]
  },
  {
   "cell_type": "markdown",
   "metadata": {},
   "source": []
  },
  {
   "cell_type": "code",
   "execution_count": 18,
   "metadata": {},
   "outputs": [
    {
     "data": {
      "image/png": "[encoded data removed]",
      "text/plain": [
       "<Figure size 432x288 with 1 Axes>"
      ]
     },
     "metadata": {
      "needs_background": "light"
     },
     "output_type": "display_data"
    }
   ],
   "source": [
    "#Parameters \n",
    "items_in_dataset_one = 30   \n",
    "items_in_dataset_two = 40\n",
    "\n",
    "mean_dataset_one = 1\n",
    "mean_dataset_two = 1.015\n",
    "\n",
    "#generate data\n",
    "data1 = mean_dataset_one + np.random.randn(items_in_dataset_one)\n",
    "data2 = mean_dataset_two + np.random.randn(items_in_dataset_two)\n",
    "\n",
    "#we then plot them.\n",
    "plt.plot(np.zeros(items_in_dataset_one), data1,'ro', markersize=14)\n",
    "plt.plot(np.ones(items_in_dataset_two), data2,'bo', markersize=14)\n",
    "plt.xlim([-1,2])\n",
    "plt.xticks([0,1],labels=['Group 1', 'Group 2'])\n",
    "plt.show()"
   ]
  },
  {
   "cell_type": "code",
   "execution_count": 19,
   "metadata": {},
   "outputs": [
    {
     "name": "stdout",
     "output_type": "stream",
     "text": [
      "t_score: 0.577383, P value 0.565588 No\n"
     ]
    }
   ],
   "source": [
    "# Is there sig difference in the mean?\n",
    "t_score, p_value = stats.ttest_ind(data1,data2)\n",
    "print(f't_score: %g, P value %g'%(t_score,p_value),'Yes'if p_value <0.05 else 'No')"
   ]
  },
  {
   "cell_type": "code",
   "execution_count": 20,
   "metadata": {},
   "outputs": [
    {
     "data": {
      "image/png": "[encoded data removed]",
      "text/plain": [
       "<Figure size 720x288 with 1 Axes>"
      ]
     },
     "metadata": {
      "needs_background": "light"
     },
     "output_type": "display_data"
    }
   ],
   "source": [
    "#We notice that the above is not intuitive.\n",
    "#ets plot them.\n",
    "\n",
    "fig = plt.figure(figsize=(10,4))\n",
    "plt.rcParams.update({'font.size':12})\n",
    "\n",
    "plt.plot(0+np.random.randn(items_in_dataset_one)/15, data1, 'ro',markerfacecolor='w', markersize=14)\n",
    "plt.plot(1+np.random.randn(items_in_dataset_two)/15, data2, 'gs',markerfacecolor='b', markersize=10)\n",
    "plt.xlim([-1,2])\n",
    "plt.xticks([0,1],labels=['Group 1', 'Group 2'])\n",
    "\n",
    "# adding title to include t value and the p value\n",
    "plt.title(f't_score = {t_score:.2f}, p={p_value:.3f}')\n",
    "plt.show()\n",
    "\n",
    "\n"
   ]
  },
  {
   "cell_type": "code",
   "execution_count": 21,
   "metadata": {},
   "outputs": [],
   "source": [
    "#Using Symbolic Math \n",
    "#Just for maths symbols..\n",
    "import sympy as sym\n",
    "import sympy.plotting.plot as symplot\n",
    "\n"
   ]
  },
  {
   "cell_type": "code",
   "execution_count": 29,
   "metadata": {},
   "outputs": [
    {
     "name": "stdout",
     "output_type": "stream",
     "text": [
      "4*x\n"
     ]
    },
    {
     "data": {
      "image/png": "[encoded data removed]",
      "text/plain": [
       "<Figure size 432x288 with 1 Axes>"
      ]
     },
     "metadata": {
      "needs_background": "light"
     },
     "output_type": "display_data"
    },
    {
     "data": {
      "image/png": "[encoded data removed]",
      "text/plain": [
       "<Figure size 432x288 with 1 Axes>"
      ]
     },
     "metadata": {
      "needs_background": "light"
     },
     "output_type": "display_data"
    }
   ],
   "source": [
    "#creating the first symbol\n",
    "x = sym.Symbol('x')\n",
    "\n",
    "#creating a fxn\n",
    "fx = 2*x**2\n",
    "\n",
    "#computing fxn's derivative.\n",
    "df = sym.diff(fx,x)\n",
    "\n",
    "#displaying output.& potting\n",
    "print(df)\n",
    "\n",
    "#plot\n",
    "symplot(fx,(x,-4,4),title='The Function')\n",
    "plt.show()\n",
    "\n",
    "#Derivative Plot\n",
    "symplot(df,(x,-2,4),title='Derivative plot')\n",
    "# plt.xlim([-2,2])\n",
    "plt.show()"
   ]
  },
  {
   "cell_type": "code",
   "execution_count": 35,
   "metadata": {},
   "outputs": [
    {
     "data": {
      "image/png": "[encoded data removed]",
      "text/plain": [
       "<Figure size 432x288 with 1 Axes>"
      ]
     },
     "metadata": {
      "needs_background": "light"
     },
     "output_type": "display_data"
    },
    {
     "data": {
      "image/png": "[encoded data removed]",
      "text/plain": [
       "<Figure size 432x288 with 1 Axes>"
      ]
     },
     "metadata": {
      "needs_background": "light"
     },
     "output_type": "display_data"
    }
   ],
   "source": [
    "#Repeating the same with relu and sigmoid.\n",
    "#create symboic functions\n",
    "relu = sym.Max(0,x)\n",
    "sigmoid = 1 / (1+sym.exp(-x))\n",
    "\n",
    "#graph the functions\n",
    "p = symplot(relu, (x, -4, 4), label='ReLU',show=False,line_color='blue')\n",
    "p.extend(symplot(sigmoid,(x,-4,4),label='Sigmoid',show=False,line_color='red'))\n",
    "p.legend = True\n",
    "p.title = 'The functions'\n",
    "p.show()\n",
    "\n",
    "#on the same graph we show their derivatives.\n",
    "p = symplot(sym.diff(relu), (x,-4,4), label ='df ReLU', show=False, line_color='blue')\n",
    "p.extend(symplot(sym.diff(sigmoid),(x,-4,4),label='df Sigmoid',show=0,line_color='red'))\n",
    "p.title = 'Derivatives'\n",
    "p.legend = True\n",
    "p.show()"
   ]
  },
  {
   "cell_type": "code",
   "execution_count": 36,
   "metadata": {},
   "outputs": [],
   "source": [
    "from IPython import display"
   ]
  },
  {
   "cell_type": "code",
   "execution_count": 44,
   "metadata": {},
   "outputs": [
    {
     "name": "stdout",
     "output_type": "stream",
     "text": [
      "The functions:\n"
     ]
    },
    {
     "data": {
      "text/latex": [
       "$\\displaystyle 2 x^{3}$"
      ],
      "text/plain": [
       "2*x**3"
      ]
     },
     "metadata": {},
     "output_type": "display_data"
    },
    {
     "data": {
      "text/latex": [
       "$\\displaystyle - \\frac{3 x^{5}}{- 8 x^{2} + 7 x} + \\frac{x}{4}$"
      ],
      "text/plain": [
       "-3*x**5/(-8*x**2 + 7*x) + x/4"
      ]
     },
     "metadata": {},
     "output_type": "display_data"
    },
    {
     "name": "stdout",
     "output_type": "stream",
     "text": [
      " \n",
      "Manual product rule\n"
     ]
    },
    {
     "data": {
      "text/latex": [
       "$\\displaystyle 2 x^{3} \\left(- \\frac{3 x^{5} \\left(16 x - 7\\right)}{\\left(- 8 x^{2} + 7 x\\right)^{2}} - \\frac{15 x^{4}}{- 8 x^{2} + 7 x} + \\frac{1}{4}\\right) + 6 x^{2} \\left(- \\frac{3 x^{5}}{- 8 x^{2} + 7 x} + \\frac{x}{4}\\right)$"
      ],
      "text/plain": [
       "2*x**3*(-3*x**5*(16*x - 7)/(-8*x**2 + 7*x)**2 - 15*x**4/(-8*x**2 + 7*x) + 1/4) + 6*x**2*(-3*x**5/(-8*x**2 + 7*x) + x/4)"
      ]
     },
     "metadata": {},
     "output_type": "display_data"
    },
    {
     "name": "stdout",
     "output_type": "stream",
     "text": [
      " \n",
      "The wrong way: \n"
     ]
    },
    {
     "data": {
      "text/latex": [
       "$\\displaystyle 6 x^{2} \\left(- \\frac{3 x^{5} \\left(16 x - 7\\right)}{\\left(- 8 x^{2} + 7 x\\right)^{2}} - \\frac{15 x^{4}}{- 8 x^{2} + 7 x} + \\frac{1}{4}\\right)$"
      ],
      "text/plain": [
       "6*x**2*(-3*x**5*(16*x - 7)/(-8*x**2 + 7*x)**2 - 15*x**4/(-8*x**2 + 7*x) + 1/4)"
      ]
     },
     "metadata": {},
     "output_type": "display_data"
    },
    {
     "name": "stdout",
     "output_type": "stream",
     "text": [
      " \n",
      "The Derivatives\n"
     ]
    },
    {
     "data": {
      "text/latex": [
       "$\\displaystyle 2 x^{3} \\left(- \\frac{3 x^{5} \\left(16 x - 7\\right)}{\\left(- 8 x^{2} + 7 x\\right)^{2}} - \\frac{15 x^{4}}{- 8 x^{2} + 7 x} + \\frac{1}{4}\\right) + 6 x^{2} \\left(- \\frac{3 x^{5}}{- 8 x^{2} + 7 x} + \\frac{x}{4}\\right)$"
      ],
      "text/plain": [
       "2*x**3*(-3*x**5*(16*x - 7)/(-8*x**2 + 7*x)**2 - 15*x**4/(-8*x**2 + 7*x) + 1/4) + 6*x**2*(-3*x**5/(-8*x**2 + 7*x) + x/4)"
      ]
     },
     "metadata": {},
     "output_type": "display_data"
    }
   ],
   "source": [
    "#creating symbolic variables in sympy\n",
    "x = sym.Symbol('x')\n",
    "\n",
    "#creating two functions \n",
    "fx = 2*x**3\n",
    "gx = ((4*x**4)/(16*x**3)) - ((3*x**5)/((7*x)-(8*x**2)))\n",
    "\n",
    "#computing the derivative\n",
    "df = sym.diff(fx)\n",
    "dg = sym.diff(gx)\n",
    "\n",
    "#applying the product rule manually\n",
    "manual = df*gx + fx*dg\n",
    "the_wrongway = df*dg\n",
    "\n",
    "#via sympy\n",
    "viasympy = sym.diff(fx*gx)\n",
    "\n",
    "#printing everyting\n",
    "print('The functions:')\n",
    "display.display(fx)\n",
    "display.display(gx)\n",
    "print(' ')\n",
    "\n",
    "print('Manual product rule')\n",
    "display.display(manual)\n",
    "print(' ')\n",
    "\n",
    "print('The wrong way: ')\n",
    "display.display(the_wrongway)\n",
    "print(' ')\n",
    "\n",
    "print('The Derivatives')\n",
    "display.display(viasympy)"
   ]
  },
  {
   "cell_type": "markdown",
   "metadata": {},
   "source": [
    "Credits Section<br>\n",
    "The display function form sympy displays very nice \n",
    "Mathematical expressions.<br>\n",
    "\n",
    "Author: Lawrence M.<br>\n",
    "Tutor: MxCohen<br>\n",
    "code rewritten and modifed by Me.2022/27/10<br>\n"
   ]
  },
  {
   "cell_type": "markdown",
   "metadata": {},
   "source": []
  }
 ],
 "metadata": {
  "kernelspec": {
   "display_name": "Python 3.8.8 ('base')",
   "language": "python",
   "name": "python3"
  },
  "language_info": {
   "codemirror_mode": {
    "name": "ipython",
    "version": 3
   },
   "file_extension": ".py",
   "mimetype": "text/x-python",
   "name": "python",
   "nbconvert_exporter": "python",
   "pygments_lexer": "ipython3",
   "version": "3.8.8"
  },
  "orig_nbformat": 4,
  "vscode": {
   "interpreter": {
    "hash": "ad2bdc8ecc057115af97d19610ffacc2b4e99fae6737bb82f5d7fb13d2f2c186"
   }
  }
 },
 "nbformat": 4,
 "nbformat_minor": 2
}
